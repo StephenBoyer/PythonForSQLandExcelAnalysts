{
 "cells": [
  {
   "cell_type": "markdown",
   "metadata": {},
   "source": [
    "### Basic SQL Selects <a class=\"anchor\" id=\"basic\"></a>\n",
    "\n",
    "When I was learning the basics of SQL I found it very useful to create very simply structure temp tables to practice and analyze results. This allowed for exploring examples and cases where I wasn't sure what the results would be. For example, if I were learning to "
   ]
  },
  {
   "cell_type": "code",
   "execution_count": null,
   "metadata": {},
   "outputs": [],
   "source": []
  }
 ],
 "metadata": {
  "kernelspec": {
   "display_name": "Python 3",
   "language": "python",
   "name": "python3"
  },
  "language_info": {
   "codemirror_mode": {
    "name": "ipython",
    "version": 3
   },
   "file_extension": ".py",
   "mimetype": "text/x-python",
   "name": "python",
   "nbconvert_exporter": "python",
   "pygments_lexer": "ipython3",
   "version": "3.6.8"
  }
 },
 "nbformat": 4,
 "nbformat_minor": 2
}
