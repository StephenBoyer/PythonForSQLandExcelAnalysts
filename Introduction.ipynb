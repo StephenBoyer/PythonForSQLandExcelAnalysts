{
 "cells": [
  {
   "cell_type": "markdown",
   "metadata": {},
   "source": [
    "## Introduction\n",
    "\n",
    "I have been doing Data analysis for over 15 years, and the tools I have been using for that time period has been excel and sql. I have been quite successful in my career by using these tools and have had the opportunity to play a part in two very successful, hyper-growth companies as an analyst and analytical leader. I started these notebooks as a way to help myself learn how to convert the things I do in SQL and Excel to python. I see the value in python in its flexibility to be everything from a quick scripting language to a heavy duty data science tool. In order to modernize my tool set, and the tool sets of the teams I lead, I found the biggest barrier to be comfortability with the SQL and Excel. I often found myself thinking \"well I know it is possible to do this work in pandas, but I can probably do it quicker in SQL\". \n",
    "\n",
    "The challenge of working in an environment that is moving super-fast is that data and analyses need to get into the hands of the business quickly. And to ensure speed to decision making I often choose the tool that will get the job done the fastest. But time and time again where this has come back to bite me is in the repeatability category. What I mean by that is that in order to do the same analysis 2 or 3 weeks later, I find myself having to re-invent code, or trying to remember how I got a column to appear in excel. \n",
    "\n",
    "In my career I have done a little bit of work in predictive modeling. When first delving into that world I utilized \"Mining Models\" in SQL Server Analytics Server. I have always had a fascination with both the math and the applicability of that world and it is thru that fascination that I first was motivated to learn Python.  \n",
    "\n",
    "Soon after I came to the realization that Python as a general Data Analysis tool could do everything I typically would do in SQL and Excel, while at the same time solving for the repeatability problem.\n",
    "\n",
    "So in order to break down that barrier for learning a new language I wrote this. For me, it forced me to do research in a structured way and to create a bridge of knowledge from the tools I know so well into the newer tool. \n",
    "\n",
    "My goal was to have SQL:\n",
    "```SQL\n",
    "Select * from Table1 where field = 10\n",
    "```\n",
    "\n",
    "Right next to Python code.\n",
    "```Python\n",
    "Table1_df.loc[Table1_df['field'] == 10]\n",
    "```\n",
    "\n",
    "Right in the middle of narrative that explains what I was doing in SQL and how to do that in Python, while at the same time pointing out subtle differences and commonalities. \n",
    "\n",
    "This would help create bridge between the familiar and unfamiliar, as well as serve as a reference. Personally this project has helped me learn quite a bit about Python, and allowed me to share some of my skill set."
   ]
  },
  {
   "cell_type": "code",
   "execution_count": null,
   "metadata": {},
   "outputs": [],
   "source": []
  }
 ],
 "metadata": {
  "kernelspec": {
   "display_name": "Python 3",
   "language": "python",
   "name": "python3"
  },
  "language_info": {
   "codemirror_mode": {
    "name": "ipython",
    "version": 3
   },
   "file_extension": ".py",
   "mimetype": "text/x-python",
   "name": "python",
   "nbconvert_exporter": "python",
   "pygments_lexer": "ipython3",
   "version": "3.6.8"
  }
 },
 "nbformat": 4,
 "nbformat_minor": 2
}
