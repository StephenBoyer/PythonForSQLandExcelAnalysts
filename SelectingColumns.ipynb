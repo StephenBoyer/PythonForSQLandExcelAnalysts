{
 "cells": [
  {
   "cell_type": "markdown",
   "metadata": {},
   "source": [
    "## Selecting columns \n",
    "\n",
    "We begin by importing pandas"
   ]
  },
  {
   "cell_type": "code",
   "execution_count": 2,
   "metadata": {},
   "outputs": [],
   "source": [
    "import pandas as pd"
   ]
  },
  {
   "cell_type": "markdown",
   "metadata": {},
   "source": [
    "To begin, we will create a table to work from. In SQL, we create a table, and then insert values we want into the table. \n",
    "\n",
    "```sql\n",
    "    CREATE TABLE #ListOfNames\n",
    "    (\n",
    "\t\tID int,\n",
    "\t\tFullName varchar(20)\n",
    "\t)\n",
    "\tINSERT INTO #ListOfNames (ID, FullName)\n",
    "\tVALUES \n",
    "\t\t(1, 'Jerry'),\n",
    "\t\t(2, 'Terry'),\n",
    "\t\t(3, 'Mary'),\n",
    "\t\t(4, 'Larry')\n",
    "```\n",
    "\n",
    "Unlike in SQL we don't have separate statements for creating the data frame and inserting values. We will do it all in one go with the DataFrame class. The great thing about pandas is how flexible it can be with inputs. It can take lists, dicts, imports from csvs, etc. However that flexibility comes with the cost. It may be difficult to choose the method. \n",
    "\n",
    "For scraping together a data frame for quick testing providing the rows as a list of lists makes sense. To do that we can take our sql and slightly adjust the parentheses and brackets.\n",
    "\n",
    "```sql \n",
    "(1, 'Jerry') ```\n",
    "Becomes \n",
    "\n",
    "```python\n",
    "[1, 'Jerry']\n",
    "```\n",
    "\n",
    "We encapsulate all the rows within one list and call it our data\n",
    "```python\n",
    "data =[[1, 'Jerry'],[2, 'Terry'],[3, 'Mary'],[4, 'Larry']]\n",
    "```\n",
    "\n",
    "This list of lists, becomes our rows, and we just need to define the columns. Again using a list, calling it our columns\n",
    "```python\n",
    "columns = ['ID','FullName']\n",
    "```\n",
    "\n",
    "Now all we have to do is pass this into a DataFrame\n"
   ]
  },
  {
   "cell_type": "code",
   "execution_count": 4,
   "metadata": {},
   "outputs": [],
   "source": [
    "#Creating a data frame \n",
    "df = pd.DataFrame(data =[[1, 'Jerry'],[2, 'Terry'],[3, 'Mary'],[4, 'Larry']], columns=['ID','FullName'])"
   ]
  },
  {
   "cell_type": "markdown",
   "metadata": {},
   "source": [
    "Now that we have a dataframe we can start experementing with different ways to select data from it. So given our dataframe, df, how do we select *?\n",
    "```sql\n",
    "Select * from df\n",
    "```\n",
    "\n",
    "The way we do that is by just writing the name of the dataframe and executing it"
   ]
  },
  {
   "cell_type": "code",
   "execution_count": 5,
   "metadata": {},
   "outputs": [
    {
     "data": {
      "text/html": [
       "<div>\n",
       "<style scoped>\n",
       "    .dataframe tbody tr th:only-of-type {\n",
       "        vertical-align: middle;\n",
       "    }\n",
       "\n",
       "    .dataframe tbody tr th {\n",
       "        vertical-align: top;\n",
       "    }\n",
       "\n",
       "    .dataframe thead th {\n",
       "        text-align: right;\n",
       "    }\n",
       "</style>\n",
       "<table border=\"1\" class=\"dataframe\">\n",
       "  <thead>\n",
       "    <tr style=\"text-align: right;\">\n",
       "      <th></th>\n",
       "      <th>ID</th>\n",
       "      <th>FullName</th>\n",
       "    </tr>\n",
       "  </thead>\n",
       "  <tbody>\n",
       "    <tr>\n",
       "      <th>0</th>\n",
       "      <td>1</td>\n",
       "      <td>Jerry</td>\n",
       "    </tr>\n",
       "    <tr>\n",
       "      <th>1</th>\n",
       "      <td>2</td>\n",
       "      <td>Terry</td>\n",
       "    </tr>\n",
       "    <tr>\n",
       "      <th>2</th>\n",
       "      <td>3</td>\n",
       "      <td>Mary</td>\n",
       "    </tr>\n",
       "    <tr>\n",
       "      <th>3</th>\n",
       "      <td>4</td>\n",
       "      <td>Larry</td>\n",
       "    </tr>\n",
       "  </tbody>\n",
       "</table>\n",
       "</div>"
      ],
      "text/plain": [
       "   ID FullName\n",
       "0   1    Jerry\n",
       "1   2    Terry\n",
       "2   3     Mary\n",
       "3   4    Larry"
      ]
     },
     "execution_count": 5,
     "metadata": {},
     "output_type": "execute_result"
    }
   ],
   "source": [
    "#The Select * of Pandas, just write the name\n",
    "df"
   ]
  },
  {
   "cell_type": "markdown",
   "metadata": {},
   "source": [
    "Of course the number of rows actually displayed depend on some options that you can tweak in pandas. We will talk about limitting rows in a bit. \n",
    "\n",
    "One thing to note is that unlike SQL table a pandas DataFrame automatically has an index (the unlabeled column starting with 0). We will talk about indexes more after the basics have been covered.\n",
    "\n",
    "Often times in SQL we will have a large table with 10s or 100s of columns and we are only interested in a handful of them. So naturally we limit the columns we show in select statements by being explicit and not using Select *. \n",
    "\n",
    "For this example let's create a table with more columns"
   ]
  },
  {
   "cell_type": "code",
   "execution_count": 6,
   "metadata": {},
   "outputs": [],
   "source": [
    "df = pd.DataFrame(data = [['Jerry', 45, 0, 'gmail', 'Tim'],\n",
    "                          ['Terry', 5, 1, 'gmail', 'Buddy'],\n",
    "                          ['Mary', 30, 1, 'yahoo', 'Cooper'],\n",
    "                          ['Larry', 45, 0, 'MSN', 'Buddy'],\n",
    "                          ['Gary', 10, 1, 'MSN', 'Slappy'],\n",
    "                          ['Larry', 45, 0, 'MSN', 'Buddy']\n",
    "                         ], \n",
    "                  columns = ['Person', 'Age', 'HappyFlag', 'Email', 'DogName'])"
   ]
  },
  {
   "cell_type": "code",
   "execution_count": 7,
   "metadata": {},
   "outputs": [
    {
     "data": {
      "text/html": [
       "<div>\n",
       "<style scoped>\n",
       "    .dataframe tbody tr th:only-of-type {\n",
       "        vertical-align: middle;\n",
       "    }\n",
       "\n",
       "    .dataframe tbody tr th {\n",
       "        vertical-align: top;\n",
       "    }\n",
       "\n",
       "    .dataframe thead th {\n",
       "        text-align: right;\n",
       "    }\n",
       "</style>\n",
       "<table border=\"1\" class=\"dataframe\">\n",
       "  <thead>\n",
       "    <tr style=\"text-align: right;\">\n",
       "      <th></th>\n",
       "      <th>Person</th>\n",
       "      <th>Age</th>\n",
       "      <th>HappyFlag</th>\n",
       "      <th>Email</th>\n",
       "      <th>DogName</th>\n",
       "    </tr>\n",
       "  </thead>\n",
       "  <tbody>\n",
       "    <tr>\n",
       "      <th>0</th>\n",
       "      <td>Jerry</td>\n",
       "      <td>45</td>\n",
       "      <td>0</td>\n",
       "      <td>gmail</td>\n",
       "      <td>Tim</td>\n",
       "    </tr>\n",
       "    <tr>\n",
       "      <th>1</th>\n",
       "      <td>Terry</td>\n",
       "      <td>5</td>\n",
       "      <td>1</td>\n",
       "      <td>gmail</td>\n",
       "      <td>Buddy</td>\n",
       "    </tr>\n",
       "    <tr>\n",
       "      <th>2</th>\n",
       "      <td>Mary</td>\n",
       "      <td>30</td>\n",
       "      <td>1</td>\n",
       "      <td>yahoo</td>\n",
       "      <td>Cooper</td>\n",
       "    </tr>\n",
       "    <tr>\n",
       "      <th>3</th>\n",
       "      <td>Larry</td>\n",
       "      <td>45</td>\n",
       "      <td>0</td>\n",
       "      <td>MSN</td>\n",
       "      <td>Buddy</td>\n",
       "    </tr>\n",
       "    <tr>\n",
       "      <th>4</th>\n",
       "      <td>Gary</td>\n",
       "      <td>10</td>\n",
       "      <td>1</td>\n",
       "      <td>MSN</td>\n",
       "      <td>Slappy</td>\n",
       "    </tr>\n",
       "    <tr>\n",
       "      <th>5</th>\n",
       "      <td>Larry</td>\n",
       "      <td>45</td>\n",
       "      <td>0</td>\n",
       "      <td>MSN</td>\n",
       "      <td>Buddy</td>\n",
       "    </tr>\n",
       "  </tbody>\n",
       "</table>\n",
       "</div>"
      ],
      "text/plain": [
       "  Person  Age  HappyFlag  Email DogName\n",
       "0  Jerry   45          0  gmail     Tim\n",
       "1  Terry    5          1  gmail   Buddy\n",
       "2   Mary   30          1  yahoo  Cooper\n",
       "3  Larry   45          0    MSN   Buddy\n",
       "4   Gary   10          1    MSN  Slappy\n",
       "5  Larry   45          0    MSN   Buddy"
      ]
     },
     "execution_count": 7,
     "metadata": {},
     "output_type": "execute_result"
    }
   ],
   "source": [
    "df"
   ]
  },
  {
   "cell_type": "markdown",
   "metadata": {},
   "source": [
    "We have a couple options for selecting one particular column. \n",
    "For example age\n",
    "```sql\n",
    "Select Age from df\n",
    "```\n",
    "One option is we could use the following syntax DataFrame.Column, note that even when selecting 1 column our index is returned as well."
   ]
  },
  {
   "cell_type": "code",
   "execution_count": 8,
   "metadata": {},
   "outputs": [
    {
     "data": {
      "text/plain": [
       "0    45\n",
       "1     5\n",
       "2    30\n",
       "3    45\n",
       "4    10\n",
       "5    45\n",
       "Name: Age, dtype: int64"
      ]
     },
     "execution_count": 8,
     "metadata": {},
     "output_type": "execute_result"
    }
   ],
   "source": [
    "df.Age"
   ]
  },
  {
   "cell_type": "markdown",
   "metadata": {},
   "source": [
    "The other option is preferable and we use brackets. They are known as an **indexer** (along with .loc and .iloc) and we are allowed to put various things inside the indexer that help us subset our data, including the name of a column:"
   ]
  },
  {
   "cell_type": "code",
   "execution_count": 9,
   "metadata": {},
   "outputs": [
    {
     "data": {
      "text/plain": [
       "0    45\n",
       "1     5\n",
       "2    30\n",
       "3    45\n",
       "4    10\n",
       "5    45\n",
       "Name: Age, dtype: int64"
      ]
     },
     "execution_count": 9,
     "metadata": {},
     "output_type": "execute_result"
    }
   ],
   "source": [
    "df['Age']"
   ]
  },
  {
   "cell_type": "markdown",
   "metadata": {},
   "source": [
    "At this point it should be noted that the way in which we are selecting a single column is returning a different object. Meaning what is being displayed as output is technicallyno longer a Data Frame. Note below, we can check the type of objecting being returned by using the type() function:"
   ]
  },
  {
   "cell_type": "code",
   "execution_count": 11,
   "metadata": {},
   "outputs": [
    {
     "data": {
      "text/plain": [
       "pandas.core.frame.DataFrame"
      ]
     },
     "execution_count": 11,
     "metadata": {},
     "output_type": "execute_result"
    }
   ],
   "source": [
    "#Our DataFrame has type DataFrame\n",
    "type(df)"
   ]
  },
  {
   "cell_type": "code",
   "execution_count": 13,
   "metadata": {},
   "outputs": [
    {
     "data": {
      "text/plain": [
       "pandas.core.series.Series"
      ]
     },
     "execution_count": 13,
     "metadata": {},
     "output_type": "execute_result"
    }
   ],
   "source": [
    "#When we select the age column in the way demonstrated above, we get a Series\n",
    "type(df['Age'])"
   ]
  },
  {
   "cell_type": "markdown",
   "metadata": {},
   "source": [
    "There is a way to get a data frame returned and select just a single column, but it follows naturally after discussing selecting multiple columns. So lets select 3 of 5 columns in our table \n",
    "```SQL\n",
    "Select Person, Age, Email from df\n",
    "```\n",
    "For this, we can simple pass a list of columns we want returned to our indexer, the list is\n",
    "```python\n",
    "['Person', 'Age', 'Email']\n",
    "```\n",
    "and we will put that list inside our brackets (thus creating double brackets) as follows:"
   ]
  },
  {
   "cell_type": "code",
   "execution_count": 14,
   "metadata": {},
   "outputs": [
    {
     "data": {
      "text/html": [
       "<div>\n",
       "<style scoped>\n",
       "    .dataframe tbody tr th:only-of-type {\n",
       "        vertical-align: middle;\n",
       "    }\n",
       "\n",
       "    .dataframe tbody tr th {\n",
       "        vertical-align: top;\n",
       "    }\n",
       "\n",
       "    .dataframe thead th {\n",
       "        text-align: right;\n",
       "    }\n",
       "</style>\n",
       "<table border=\"1\" class=\"dataframe\">\n",
       "  <thead>\n",
       "    <tr style=\"text-align: right;\">\n",
       "      <th></th>\n",
       "      <th>Person</th>\n",
       "      <th>Age</th>\n",
       "      <th>Email</th>\n",
       "    </tr>\n",
       "  </thead>\n",
       "  <tbody>\n",
       "    <tr>\n",
       "      <th>0</th>\n",
       "      <td>Jerry</td>\n",
       "      <td>45</td>\n",
       "      <td>gmail</td>\n",
       "    </tr>\n",
       "    <tr>\n",
       "      <th>1</th>\n",
       "      <td>Terry</td>\n",
       "      <td>5</td>\n",
       "      <td>gmail</td>\n",
       "    </tr>\n",
       "    <tr>\n",
       "      <th>2</th>\n",
       "      <td>Mary</td>\n",
       "      <td>30</td>\n",
       "      <td>yahoo</td>\n",
       "    </tr>\n",
       "    <tr>\n",
       "      <th>3</th>\n",
       "      <td>Larry</td>\n",
       "      <td>45</td>\n",
       "      <td>MSN</td>\n",
       "    </tr>\n",
       "    <tr>\n",
       "      <th>4</th>\n",
       "      <td>Gary</td>\n",
       "      <td>10</td>\n",
       "      <td>MSN</td>\n",
       "    </tr>\n",
       "    <tr>\n",
       "      <th>5</th>\n",
       "      <td>Larry</td>\n",
       "      <td>45</td>\n",
       "      <td>MSN</td>\n",
       "    </tr>\n",
       "  </tbody>\n",
       "</table>\n",
       "</div>"
      ],
      "text/plain": [
       "  Person  Age  Email\n",
       "0  Jerry   45  gmail\n",
       "1  Terry    5  gmail\n",
       "2   Mary   30  yahoo\n",
       "3  Larry   45    MSN\n",
       "4   Gary   10    MSN\n",
       "5  Larry   45    MSN"
      ]
     },
     "execution_count": 14,
     "metadata": {},
     "output_type": "execute_result"
    }
   ],
   "source": [
    "#note the double [[ We are passing a list ['Person', 'Age', 'Email'] into df[]\n",
    "df[['Person', 'Age', 'Email']]"
   ]
  },
  {
   "cell_type": "markdown",
   "metadata": {},
   "source": [
    "You can tell by the look and the feel of the output that this is a dataframe, but just to confirm:"
   ]
  },
  {
   "cell_type": "code",
   "execution_count": 15,
   "metadata": {},
   "outputs": [
    {
     "data": {
      "text/plain": [
       "pandas.core.frame.DataFrame"
      ]
     },
     "execution_count": 15,
     "metadata": {},
     "output_type": "execute_result"
    }
   ],
   "source": [
    "type(df[['Person', 'Age', 'Email']])"
   ]
  },
  {
   "cell_type": "markdown",
   "metadata": {},
   "source": [
    "As you may have guessed passing a list into our indexer has made it return a Dataframe. We can force a single column select statement to return a dataframe by adjusting \n",
    "```python\n",
    "df['Age']\n",
    "```\n",
    "All we need to do is pass a list instead of a single string."
   ]
  },
  {
   "cell_type": "code",
   "execution_count": 17,
   "metadata": {},
   "outputs": [
    {
     "data": {
      "text/html": [
       "<div>\n",
       "<style scoped>\n",
       "    .dataframe tbody tr th:only-of-type {\n",
       "        vertical-align: middle;\n",
       "    }\n",
       "\n",
       "    .dataframe tbody tr th {\n",
       "        vertical-align: top;\n",
       "    }\n",
       "\n",
       "    .dataframe thead th {\n",
       "        text-align: right;\n",
       "    }\n",
       "</style>\n",
       "<table border=\"1\" class=\"dataframe\">\n",
       "  <thead>\n",
       "    <tr style=\"text-align: right;\">\n",
       "      <th></th>\n",
       "      <th>Age</th>\n",
       "    </tr>\n",
       "  </thead>\n",
       "  <tbody>\n",
       "    <tr>\n",
       "      <th>0</th>\n",
       "      <td>45</td>\n",
       "    </tr>\n",
       "    <tr>\n",
       "      <th>1</th>\n",
       "      <td>5</td>\n",
       "    </tr>\n",
       "    <tr>\n",
       "      <th>2</th>\n",
       "      <td>30</td>\n",
       "    </tr>\n",
       "    <tr>\n",
       "      <th>3</th>\n",
       "      <td>45</td>\n",
       "    </tr>\n",
       "    <tr>\n",
       "      <th>4</th>\n",
       "      <td>10</td>\n",
       "    </tr>\n",
       "    <tr>\n",
       "      <th>5</th>\n",
       "      <td>45</td>\n",
       "    </tr>\n",
       "  </tbody>\n",
       "</table>\n",
       "</div>"
      ],
      "text/plain": [
       "   Age\n",
       "0   45\n",
       "1    5\n",
       "2   30\n",
       "3   45\n",
       "4   10\n",
       "5   45"
      ]
     },
     "execution_count": 17,
     "metadata": {},
     "output_type": "execute_result"
    }
   ],
   "source": [
    "#Forcing selecting a single column to return a dataframe\n",
    "df[['Age']]"
   ]
  },
  {
   "cell_type": "code",
   "execution_count": null,
   "metadata": {},
   "outputs": [],
   "source": []
  }
 ],
 "metadata": {
  "kernelspec": {
   "display_name": "Python 3",
   "language": "python",
   "name": "python3"
  },
  "language_info": {
   "codemirror_mode": {
    "name": "ipython",
    "version": 3
   },
   "file_extension": ".py",
   "mimetype": "text/x-python",
   "name": "python",
   "nbconvert_exporter": "python",
   "pygments_lexer": "ipython3",
   "version": "3.6.8"
  }
 },
 "nbformat": 4,
 "nbformat_minor": 2
}
