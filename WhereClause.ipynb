{
 "cells": [
  {
   "cell_type": "code",
   "execution_count": 1,
   "metadata": {},
   "outputs": [],
   "source": [
    "#Create the same table as previous notebook\n",
    "import pandas as pd\n",
    "df = pd.DataFrame(data = [['Jerry', 45, 0, 'gmail', 'Tim'],\n",
    "                          ['Terry', 5, 1, 'gmail', 'Buddy'],\n",
    "                          ['Mary', 30, 1, 'yahoo', 'Cooper'],\n",
    "                          ['Larry', 45, 0, 'MSN', 'Buddy'],\n",
    "                          ['Gary', 10, 1, 'MSN', 'Slappy'],\n",
    "                          ['Larry', 45, 0, 'MSN', 'Buddy']\n",
    "                         ], \n",
    "                  columns = ['Person', 'Age', 'HappyFlag', 'Email', 'DogName'])"
   ]
  },
  {
   "cell_type": "markdown",
   "metadata": {},
   "source": [
    "## Where Clause\n",
    "### Limitting the number of rows selected\n",
    "Now that we have the tools needed to create quick tables, view them, and get the columns we want; we can try out selecting only rows that we want. The first thing to explore is how we might select people from the table who have a particular email.\n",
    "\n",
    "```sql\n",
    "Select * from df where Email = 'gmail'\n",
    "```\n",
    "\n",
    "What would happen if just selected the singular email column and looked for those values"
   ]
  },
  {
   "cell_type": "code",
   "execution_count": 2,
   "metadata": {},
   "outputs": [],
   "source": [
    "df['Email'] = 'gmail'"
   ]
  },
  {
   "cell_type": "code",
   "execution_count": 3,
   "metadata": {},
   "outputs": [
    {
     "data": {
      "text/html": [
       "<div>\n",
       "<style scoped>\n",
       "    .dataframe tbody tr th:only-of-type {\n",
       "        vertical-align: middle;\n",
       "    }\n",
       "\n",
       "    .dataframe tbody tr th {\n",
       "        vertical-align: top;\n",
       "    }\n",
       "\n",
       "    .dataframe thead th {\n",
       "        text-align: right;\n",
       "    }\n",
       "</style>\n",
       "<table border=\"1\" class=\"dataframe\">\n",
       "  <thead>\n",
       "    <tr style=\"text-align: right;\">\n",
       "      <th></th>\n",
       "      <th>Person</th>\n",
       "      <th>Age</th>\n",
       "      <th>HappyFlag</th>\n",
       "      <th>Email</th>\n",
       "      <th>DogName</th>\n",
       "    </tr>\n",
       "  </thead>\n",
       "  <tbody>\n",
       "    <tr>\n",
       "      <th>0</th>\n",
       "      <td>Jerry</td>\n",
       "      <td>45</td>\n",
       "      <td>0</td>\n",
       "      <td>gmail</td>\n",
       "      <td>Tim</td>\n",
       "    </tr>\n",
       "    <tr>\n",
       "      <th>1</th>\n",
       "      <td>Terry</td>\n",
       "      <td>5</td>\n",
       "      <td>1</td>\n",
       "      <td>gmail</td>\n",
       "      <td>Buddy</td>\n",
       "    </tr>\n",
       "    <tr>\n",
       "      <th>2</th>\n",
       "      <td>Mary</td>\n",
       "      <td>30</td>\n",
       "      <td>1</td>\n",
       "      <td>gmail</td>\n",
       "      <td>Cooper</td>\n",
       "    </tr>\n",
       "    <tr>\n",
       "      <th>3</th>\n",
       "      <td>Larry</td>\n",
       "      <td>45</td>\n",
       "      <td>0</td>\n",
       "      <td>gmail</td>\n",
       "      <td>Buddy</td>\n",
       "    </tr>\n",
       "    <tr>\n",
       "      <th>4</th>\n",
       "      <td>Gary</td>\n",
       "      <td>10</td>\n",
       "      <td>1</td>\n",
       "      <td>gmail</td>\n",
       "      <td>Slappy</td>\n",
       "    </tr>\n",
       "    <tr>\n",
       "      <th>5</th>\n",
       "      <td>Larry</td>\n",
       "      <td>45</td>\n",
       "      <td>0</td>\n",
       "      <td>gmail</td>\n",
       "      <td>Buddy</td>\n",
       "    </tr>\n",
       "  </tbody>\n",
       "</table>\n",
       "</div>"
      ],
      "text/plain": [
       "  Person  Age  HappyFlag  Email DogName\n",
       "0  Jerry   45          0  gmail     Tim\n",
       "1  Terry    5          1  gmail   Buddy\n",
       "2   Mary   30          1  gmail  Cooper\n",
       "3  Larry   45          0  gmail   Buddy\n",
       "4   Gary   10          1  gmail  Slappy\n",
       "5  Larry   45          0  gmail   Buddy"
      ]
     },
     "execution_count": 3,
     "metadata": {},
     "output_type": "execute_result"
    }
   ],
   "source": [
    "df"
   ]
  },
  {
   "cell_type": "markdown",
   "metadata": {},
   "source": [
    "Whoops. It looks like we set the entire column to gmail rather than just selecting rows. Python uses the conditional equals == that you might see in object oriented languages. Let’s reset our DataFrame by copying what's above"
   ]
  },
  {
   "cell_type": "code",
   "execution_count": 2,
   "metadata": {},
   "outputs": [],
   "source": [
    "df = pd.DataFrame(data = [['Jerry', 45, 0, 'gmail', 'Tim'],\n",
    "                          ['Terry', 5, 1, 'gmail', 'Buddy'],\n",
    "                          ['Mary', 30, 1, 'yahoo', 'Cooper'],\n",
    "                          ['Larry', 45, 0, 'MSN', 'Buddy'],\n",
    "                          ['Gary', 10, 1, 'MSN', 'Slappy'],\n",
    "                          ['Larry', 45, 0, 'MSN', 'Buddy']], \n",
    "                  columns = ['Person', 'Age', 'HappyFlag', 'Email', 'DogName'])"
   ]
  },
  {
   "cell_type": "code",
   "execution_count": 3,
   "metadata": {},
   "outputs": [
    {
     "data": {
      "text/html": [
       "<div>\n",
       "<style scoped>\n",
       "    .dataframe tbody tr th:only-of-type {\n",
       "        vertical-align: middle;\n",
       "    }\n",
       "\n",
       "    .dataframe tbody tr th {\n",
       "        vertical-align: top;\n",
       "    }\n",
       "\n",
       "    .dataframe thead th {\n",
       "        text-align: right;\n",
       "    }\n",
       "</style>\n",
       "<table border=\"1\" class=\"dataframe\">\n",
       "  <thead>\n",
       "    <tr style=\"text-align: right;\">\n",
       "      <th></th>\n",
       "      <th>Person</th>\n",
       "      <th>Age</th>\n",
       "      <th>HappyFlag</th>\n",
       "      <th>Email</th>\n",
       "      <th>DogName</th>\n",
       "    </tr>\n",
       "  </thead>\n",
       "  <tbody>\n",
       "    <tr>\n",
       "      <th>0</th>\n",
       "      <td>Jerry</td>\n",
       "      <td>45</td>\n",
       "      <td>0</td>\n",
       "      <td>gmail</td>\n",
       "      <td>Tim</td>\n",
       "    </tr>\n",
       "    <tr>\n",
       "      <th>1</th>\n",
       "      <td>Terry</td>\n",
       "      <td>5</td>\n",
       "      <td>1</td>\n",
       "      <td>gmail</td>\n",
       "      <td>Buddy</td>\n",
       "    </tr>\n",
       "    <tr>\n",
       "      <th>2</th>\n",
       "      <td>Mary</td>\n",
       "      <td>30</td>\n",
       "      <td>1</td>\n",
       "      <td>yahoo</td>\n",
       "      <td>Cooper</td>\n",
       "    </tr>\n",
       "    <tr>\n",
       "      <th>3</th>\n",
       "      <td>Larry</td>\n",
       "      <td>45</td>\n",
       "      <td>0</td>\n",
       "      <td>MSN</td>\n",
       "      <td>Buddy</td>\n",
       "    </tr>\n",
       "    <tr>\n",
       "      <th>4</th>\n",
       "      <td>Gary</td>\n",
       "      <td>10</td>\n",
       "      <td>1</td>\n",
       "      <td>MSN</td>\n",
       "      <td>Slappy</td>\n",
       "    </tr>\n",
       "    <tr>\n",
       "      <th>5</th>\n",
       "      <td>Larry</td>\n",
       "      <td>45</td>\n",
       "      <td>0</td>\n",
       "      <td>MSN</td>\n",
       "      <td>Buddy</td>\n",
       "    </tr>\n",
       "  </tbody>\n",
       "</table>\n",
       "</div>"
      ],
      "text/plain": [
       "  Person  Age  HappyFlag  Email DogName\n",
       "0  Jerry   45          0  gmail     Tim\n",
       "1  Terry    5          1  gmail   Buddy\n",
       "2   Mary   30          1  yahoo  Cooper\n",
       "3  Larry   45          0    MSN   Buddy\n",
       "4   Gary   10          1    MSN  Slappy\n",
       "5  Larry   45          0    MSN   Buddy"
      ]
     },
     "execution_count": 3,
     "metadata": {},
     "output_type": "execute_result"
    }
   ],
   "source": [
    "df"
   ]
  },
  {
   "cell_type": "markdown",
   "metadata": {},
   "source": [
    "And let's try again with using =="
   ]
  },
  {
   "cell_type": "code",
   "execution_count": 4,
   "metadata": {},
   "outputs": [
    {
     "data": {
      "text/plain": [
       "0     True\n",
       "1     True\n",
       "2    False\n",
       "3    False\n",
       "4    False\n",
       "5    False\n",
       "Name: Email, dtype: bool"
      ]
     },
     "execution_count": 4,
     "metadata": {},
     "output_type": "execute_result"
    }
   ],
   "source": [
    "df['Email'] == 'gmail'"
   ]
  },
  {
   "cell_type": "markdown",
   "metadata": {},
   "source": [
    "What we are looking at here is a series of booleans that tell us on which rows our condition is true. What we have to do is take that and use it to define the subset of values we want to see, the way that is accomplished is by placing that series inside an indexer."
   ]
  },
  {
   "cell_type": "code",
   "execution_count": 5,
   "metadata": {},
   "outputs": [
    {
     "data": {
      "text/html": [
       "<div>\n",
       "<style scoped>\n",
       "    .dataframe tbody tr th:only-of-type {\n",
       "        vertical-align: middle;\n",
       "    }\n",
       "\n",
       "    .dataframe tbody tr th {\n",
       "        vertical-align: top;\n",
       "    }\n",
       "\n",
       "    .dataframe thead th {\n",
       "        text-align: right;\n",
       "    }\n",
       "</style>\n",
       "<table border=\"1\" class=\"dataframe\">\n",
       "  <thead>\n",
       "    <tr style=\"text-align: right;\">\n",
       "      <th></th>\n",
       "      <th>Person</th>\n",
       "      <th>Age</th>\n",
       "      <th>HappyFlag</th>\n",
       "      <th>Email</th>\n",
       "      <th>DogName</th>\n",
       "    </tr>\n",
       "  </thead>\n",
       "  <tbody>\n",
       "    <tr>\n",
       "      <th>0</th>\n",
       "      <td>Jerry</td>\n",
       "      <td>45</td>\n",
       "      <td>0</td>\n",
       "      <td>gmail</td>\n",
       "      <td>Tim</td>\n",
       "    </tr>\n",
       "    <tr>\n",
       "      <th>1</th>\n",
       "      <td>Terry</td>\n",
       "      <td>5</td>\n",
       "      <td>1</td>\n",
       "      <td>gmail</td>\n",
       "      <td>Buddy</td>\n",
       "    </tr>\n",
       "  </tbody>\n",
       "</table>\n",
       "</div>"
      ],
      "text/plain": [
       "  Person  Age  HappyFlag  Email DogName\n",
       "0  Jerry   45          0  gmail     Tim\n",
       "1  Terry    5          1  gmail   Buddy"
      ]
     },
     "execution_count": 5,
     "metadata": {},
     "output_type": "execute_result"
    }
   ],
   "source": [
    "df[df['Email'] == 'gmail']"
   ]
  },
  {
   "cell_type": "markdown",
   "metadata": {},
   "source": [
    "Note that what we have done is added the appropriate where clause, the sql might look like\n",
    "```sql\n",
    "Select * from df where Email = 'gmail'\n",
    "```\n",
    "Let's now combine both the condition in the where clause with what we learned in the previous notebook with selecting a particular group of columns\n",
    "```sql\n",
    "Select Person, Age, Email from df where Email = 'gmail'\n",
    "```"
   ]
  },
  {
   "cell_type": "code",
   "execution_count": 6,
   "metadata": {},
   "outputs": [
    {
     "data": {
      "text/html": [
       "<div>\n",
       "<style scoped>\n",
       "    .dataframe tbody tr th:only-of-type {\n",
       "        vertical-align: middle;\n",
       "    }\n",
       "\n",
       "    .dataframe tbody tr th {\n",
       "        vertical-align: top;\n",
       "    }\n",
       "\n",
       "    .dataframe thead th {\n",
       "        text-align: right;\n",
       "    }\n",
       "</style>\n",
       "<table border=\"1\" class=\"dataframe\">\n",
       "  <thead>\n",
       "    <tr style=\"text-align: right;\">\n",
       "      <th></th>\n",
       "      <th>Person</th>\n",
       "      <th>Age</th>\n",
       "      <th>Email</th>\n",
       "    </tr>\n",
       "  </thead>\n",
       "  <tbody>\n",
       "    <tr>\n",
       "      <th>0</th>\n",
       "      <td>Jerry</td>\n",
       "      <td>45</td>\n",
       "      <td>gmail</td>\n",
       "    </tr>\n",
       "    <tr>\n",
       "      <th>1</th>\n",
       "      <td>Terry</td>\n",
       "      <td>5</td>\n",
       "      <td>gmail</td>\n",
       "    </tr>\n",
       "  </tbody>\n",
       "</table>\n",
       "</div>"
      ],
      "text/plain": [
       "  Person  Age  Email\n",
       "0  Jerry   45  gmail\n",
       "1  Terry    5  gmail"
      ]
     },
     "execution_count": 6,
     "metadata": {},
     "output_type": "execute_result"
    }
   ],
   "source": [
    "df[df['Email'] == 'gmail'][['Person', 'Age', 'Email']]"
   ]
  },
  {
   "cell_type": "markdown",
   "metadata": {},
   "source": [
    "We have used multiple indexers.\n",
    "```python\n",
    "df[Indexer1][Indexer2]\n",
    "```\n",
    "\n",
    "Note that it doesn't matter which comes first:"
   ]
  },
  {
   "cell_type": "code",
   "execution_count": 7,
   "metadata": {},
   "outputs": [
    {
     "data": {
      "text/html": [
       "<div>\n",
       "<style scoped>\n",
       "    .dataframe tbody tr th:only-of-type {\n",
       "        vertical-align: middle;\n",
       "    }\n",
       "\n",
       "    .dataframe tbody tr th {\n",
       "        vertical-align: top;\n",
       "    }\n",
       "\n",
       "    .dataframe thead th {\n",
       "        text-align: right;\n",
       "    }\n",
       "</style>\n",
       "<table border=\"1\" class=\"dataframe\">\n",
       "  <thead>\n",
       "    <tr style=\"text-align: right;\">\n",
       "      <th></th>\n",
       "      <th>Person</th>\n",
       "      <th>Age</th>\n",
       "      <th>Email</th>\n",
       "    </tr>\n",
       "  </thead>\n",
       "  <tbody>\n",
       "    <tr>\n",
       "      <th>0</th>\n",
       "      <td>Jerry</td>\n",
       "      <td>45</td>\n",
       "      <td>gmail</td>\n",
       "    </tr>\n",
       "    <tr>\n",
       "      <th>1</th>\n",
       "      <td>Terry</td>\n",
       "      <td>5</td>\n",
       "      <td>gmail</td>\n",
       "    </tr>\n",
       "  </tbody>\n",
       "</table>\n",
       "</div>"
      ],
      "text/plain": [
       "  Person  Age  Email\n",
       "0  Jerry   45  gmail\n",
       "1  Terry    5  gmail"
      ]
     },
     "execution_count": 7,
     "metadata": {},
     "output_type": "execute_result"
    }
   ],
   "source": [
    "df[['Person', 'Age', 'Email']][df['Email'] == 'gmail']"
   ]
  },
  {
   "cell_type": "markdown",
   "metadata": {},
   "source": [
    "However you should be slightly careful. Notice what happens when I tack on an extra condition"
   ]
  },
  {
   "cell_type": "code",
   "execution_count": 8,
   "metadata": {},
   "outputs": [
    {
     "name": "stderr",
     "output_type": "stream",
     "text": [
      "C:\\Users\\s.boyer1\\AppData\\Local\\Continuum\\anaconda3\\lib\\site-packages\\ipykernel_launcher.py:1: UserWarning: Boolean Series key will be reindexed to match DataFrame index.\n",
      "  \"\"\"Entry point for launching an IPython kernel.\n"
     ]
    },
    {
     "data": {
      "text/html": [
       "<div>\n",
       "<style scoped>\n",
       "    .dataframe tbody tr th:only-of-type {\n",
       "        vertical-align: middle;\n",
       "    }\n",
       "\n",
       "    .dataframe tbody tr th {\n",
       "        vertical-align: top;\n",
       "    }\n",
       "\n",
       "    .dataframe thead th {\n",
       "        text-align: right;\n",
       "    }\n",
       "</style>\n",
       "<table border=\"1\" class=\"dataframe\">\n",
       "  <thead>\n",
       "    <tr style=\"text-align: right;\">\n",
       "      <th></th>\n",
       "      <th>Person</th>\n",
       "      <th>Age</th>\n",
       "      <th>Email</th>\n",
       "    </tr>\n",
       "  </thead>\n",
       "  <tbody>\n",
       "    <tr>\n",
       "      <th>1</th>\n",
       "      <td>Terry</td>\n",
       "      <td>5</td>\n",
       "      <td>gmail</td>\n",
       "    </tr>\n",
       "  </tbody>\n",
       "</table>\n",
       "</div>"
      ],
      "text/plain": [
       "  Person  Age  Email\n",
       "1  Terry    5  gmail"
      ]
     },
     "execution_count": 8,
     "metadata": {},
     "output_type": "execute_result"
    }
   ],
   "source": [
    "df[['Person', 'Age', 'Email']][df['Email'] == 'gmail'][df['Age'] <= 10]"
   ]
  },
  {
   "cell_type": "markdown",
   "metadata": {},
   "source": [
    "Results are returned but we get a warning. What is happening here is that the last condition \n",
    "```python\n",
    "df['Age'] <= 10\n",
    "```\n",
    "is calculating on a dataframe that doesn't match the original size of df (the data frame with just 2 rows after the first condition of email = gmail is calculated).  At this point what we are essentially looking at is expanding our SQL where condition\n",
    "```sql\n",
    "Select Person, Age, Email from df where Email = 'gmail' and Age <= 10 \n",
    "```\n",
    "The way I recommend handling this is to use one indexer for the column selection and one and only one indexer for the where conditions. this way we don't run into the warning above. In python we use '&' and '|' to represent 'and' and 'or'. With this we can fit muliple conditions into a singular indexer.\n",
    "\n",
    "Read thru the following SQL queries and how we would filter the data frame in order to achieve the equivalent results. As with SQL it is always best to explicitly group order of operations of ands and ors using parantheses.  \n",
    "```sql\n",
    "Select * from df where Email = 'gmail' and Age <= 10 \n",
    "```"
   ]
  },
  {
   "cell_type": "code",
   "execution_count": 9,
   "metadata": {},
   "outputs": [
    {
     "data": {
      "text/html": [
       "<div>\n",
       "<style scoped>\n",
       "    .dataframe tbody tr th:only-of-type {\n",
       "        vertical-align: middle;\n",
       "    }\n",
       "\n",
       "    .dataframe tbody tr th {\n",
       "        vertical-align: top;\n",
       "    }\n",
       "\n",
       "    .dataframe thead th {\n",
       "        text-align: right;\n",
       "    }\n",
       "</style>\n",
       "<table border=\"1\" class=\"dataframe\">\n",
       "  <thead>\n",
       "    <tr style=\"text-align: right;\">\n",
       "      <th></th>\n",
       "      <th>Person</th>\n",
       "      <th>Age</th>\n",
       "      <th>HappyFlag</th>\n",
       "      <th>Email</th>\n",
       "      <th>DogName</th>\n",
       "    </tr>\n",
       "  </thead>\n",
       "  <tbody>\n",
       "    <tr>\n",
       "      <th>1</th>\n",
       "      <td>Terry</td>\n",
       "      <td>5</td>\n",
       "      <td>1</td>\n",
       "      <td>gmail</td>\n",
       "      <td>Buddy</td>\n",
       "    </tr>\n",
       "  </tbody>\n",
       "</table>\n",
       "</div>"
      ],
      "text/plain": [
       "  Person  Age  HappyFlag  Email DogName\n",
       "1  Terry    5          1  gmail   Buddy"
      ]
     },
     "execution_count": 9,
     "metadata": {},
     "output_type": "execute_result"
    }
   ],
   "source": [
    "df[(df['Email'] == 'gmail') & (df['Age'] <= 10)]"
   ]
  },
  {
   "cell_type": "markdown",
   "metadata": {},
   "source": [
    "```sql\n",
    "Select Person, Age, Email from df where Email = 'gmail' and Age <= 10 \n",
    "```"
   ]
  },
  {
   "cell_type": "code",
   "execution_count": 11,
   "metadata": {},
   "outputs": [
    {
     "data": {
      "text/html": [
       "<div>\n",
       "<style scoped>\n",
       "    .dataframe tbody tr th:only-of-type {\n",
       "        vertical-align: middle;\n",
       "    }\n",
       "\n",
       "    .dataframe tbody tr th {\n",
       "        vertical-align: top;\n",
       "    }\n",
       "\n",
       "    .dataframe thead th {\n",
       "        text-align: right;\n",
       "    }\n",
       "</style>\n",
       "<table border=\"1\" class=\"dataframe\">\n",
       "  <thead>\n",
       "    <tr style=\"text-align: right;\">\n",
       "      <th></th>\n",
       "      <th>Person</th>\n",
       "      <th>Age</th>\n",
       "      <th>Email</th>\n",
       "    </tr>\n",
       "  </thead>\n",
       "  <tbody>\n",
       "    <tr>\n",
       "      <th>1</th>\n",
       "      <td>Terry</td>\n",
       "      <td>5</td>\n",
       "      <td>gmail</td>\n",
       "    </tr>\n",
       "  </tbody>\n",
       "</table>\n",
       "</div>"
      ],
      "text/plain": [
       "  Person  Age  Email\n",
       "1  Terry    5  gmail"
      ]
     },
     "execution_count": 11,
     "metadata": {},
     "output_type": "execute_result"
    }
   ],
   "source": [
    "df[(df['Email'] == 'gmail') & (df['Age'] <= 10)][['Person', 'Age', 'Email']]"
   ]
  },
  {
   "cell_type": "markdown",
   "metadata": {},
   "source": [
    "```sql\n",
    "Select Person, Age, Email from df where (Email = 'gmail' or Email = 'MSN') and Age <= 10 \n",
    "```"
   ]
  },
  {
   "cell_type": "code",
   "execution_count": 12,
   "metadata": {},
   "outputs": [
    {
     "data": {
      "text/html": [
       "<div>\n",
       "<style scoped>\n",
       "    .dataframe tbody tr th:only-of-type {\n",
       "        vertical-align: middle;\n",
       "    }\n",
       "\n",
       "    .dataframe tbody tr th {\n",
       "        vertical-align: top;\n",
       "    }\n",
       "\n",
       "    .dataframe thead th {\n",
       "        text-align: right;\n",
       "    }\n",
       "</style>\n",
       "<table border=\"1\" class=\"dataframe\">\n",
       "  <thead>\n",
       "    <tr style=\"text-align: right;\">\n",
       "      <th></th>\n",
       "      <th>Person</th>\n",
       "      <th>Age</th>\n",
       "      <th>Email</th>\n",
       "    </tr>\n",
       "  </thead>\n",
       "  <tbody>\n",
       "    <tr>\n",
       "      <th>1</th>\n",
       "      <td>Terry</td>\n",
       "      <td>5</td>\n",
       "      <td>gmail</td>\n",
       "    </tr>\n",
       "    <tr>\n",
       "      <th>4</th>\n",
       "      <td>Gary</td>\n",
       "      <td>10</td>\n",
       "      <td>MSN</td>\n",
       "    </tr>\n",
       "  </tbody>\n",
       "</table>\n",
       "</div>"
      ],
      "text/plain": [
       "  Person  Age  Email\n",
       "1  Terry    5  gmail\n",
       "4   Gary   10    MSN"
      ]
     },
     "execution_count": 12,
     "metadata": {},
     "output_type": "execute_result"
    }
   ],
   "source": [
    "df[((df['Email'] == 'gmail') | (df['Email'] == 'MSN')) & (df['Age'] <= 10)][['Person', 'Age', 'Email']]"
   ]
  },
  {
   "cell_type": "markdown",
   "metadata": {},
   "source": [
    "At this point things can be getting kind of tricky to read and keep track of all in one line. When that happens while working with SQL, I know that I can break things into steps and leverage additional temp tables. Taking the last example, we could break it into steps in SQL using a select into and quickly have a smaller set to work with. \n",
    "```sql\n",
    "Select Person, Age, Email \n",
    "into #smallerTable\n",
    "from df \n",
    "where (Email = 'gmail' or Email = 'MSN')\n",
    "\n",
    "Select * from #smallerTable where Age <=10\n",
    "```\n",
    "This is just an example and everyone has a different comfortability level when it comes to abstraction. Some people can figure out the most complex of tasks and boil it down into one step. That may make it difficult for others to follow along when reading code. \n",
    "\n",
    "This can get a little bit tricky. I've known SQL developers that would never Select * into, and would always write a create table first. In dealing with temp tables that we are just using to test out how syntax works I don't think it is a big deal. Luckly python does make it quite easy for us to achieve the same result\n"
   ]
  },
  {
   "cell_type": "code",
   "execution_count": 13,
   "metadata": {},
   "outputs": [
    {
     "data": {
      "text/html": [
       "<div>\n",
       "<style scoped>\n",
       "    .dataframe tbody tr th:only-of-type {\n",
       "        vertical-align: middle;\n",
       "    }\n",
       "\n",
       "    .dataframe tbody tr th {\n",
       "        vertical-align: top;\n",
       "    }\n",
       "\n",
       "    .dataframe thead th {\n",
       "        text-align: right;\n",
       "    }\n",
       "</style>\n",
       "<table border=\"1\" class=\"dataframe\">\n",
       "  <thead>\n",
       "    <tr style=\"text-align: right;\">\n",
       "      <th></th>\n",
       "      <th>Person</th>\n",
       "      <th>Age</th>\n",
       "      <th>Email</th>\n",
       "    </tr>\n",
       "  </thead>\n",
       "  <tbody>\n",
       "    <tr>\n",
       "      <th>1</th>\n",
       "      <td>Terry</td>\n",
       "      <td>5</td>\n",
       "      <td>gmail</td>\n",
       "    </tr>\n",
       "    <tr>\n",
       "      <th>4</th>\n",
       "      <td>Gary</td>\n",
       "      <td>10</td>\n",
       "      <td>MSN</td>\n",
       "    </tr>\n",
       "  </tbody>\n",
       "</table>\n",
       "</div>"
      ],
      "text/plain": [
       "  Person  Age  Email\n",
       "1  Terry    5  gmail\n",
       "4   Gary   10    MSN"
      ]
     },
     "execution_count": 13,
     "metadata": {},
     "output_type": "execute_result"
    }
   ],
   "source": [
    "#Define our smaller 'Temp' table\n",
    "df_smallerTable = df[(df['Email'] == 'gmail') | (df['Email'] == 'MSN')][['Person', 'Age', 'Email']]\n",
    "\n",
    "#Select * from maller table with additional condition\n",
    "df_smallerTable[df_smallerTable['Age'] <= 10]"
   ]
  },
  {
   "cell_type": "markdown",
   "metadata": {},
   "source": [
    "#### Loc & iLoc"
   ]
  },
  {
   "cell_type": "markdown",
   "metadata": {},
   "source": [
    "Using Nested data frames this way is not the best way. There are two function of Data frames that were designed to handle this a bit more elegantly\n",
    "\n",
    "```python\n",
    "df[((df['Email'] == 'gmail') | (df['Email'] == 'MSN')) & (df['Age'] <= 10)][['Person', 'Age', 'Email']]\n",
    "```\n",
    "\n",
    "df.loc[] and df.iloc[] are indexers that have a couple advantages over using just bracket indexers. A good read if you are interested is this [stack overflow thread](https://stackoverflow.com/questions/38886080/python-pandas-series-why-use-loc)\n",
    "\n",
    "Generally, you can select data with lock the same way we were selecting data with brackets, the conditions for what rows you want to select to directly inside the brackets, but we can use a comma after the conditions to specify which columns we want returned so that we do not need to open a new set of brackets.\n"
   ]
  },
  {
   "cell_type": "code",
   "execution_count": 14,
   "metadata": {},
   "outputs": [
    {
     "data": {
      "text/html": [
       "<div>\n",
       "<style scoped>\n",
       "    .dataframe tbody tr th:only-of-type {\n",
       "        vertical-align: middle;\n",
       "    }\n",
       "\n",
       "    .dataframe tbody tr th {\n",
       "        vertical-align: top;\n",
       "    }\n",
       "\n",
       "    .dataframe thead th {\n",
       "        text-align: right;\n",
       "    }\n",
       "</style>\n",
       "<table border=\"1\" class=\"dataframe\">\n",
       "  <thead>\n",
       "    <tr style=\"text-align: right;\">\n",
       "      <th></th>\n",
       "      <th>Person</th>\n",
       "      <th>Age</th>\n",
       "      <th>Email</th>\n",
       "    </tr>\n",
       "  </thead>\n",
       "  <tbody>\n",
       "    <tr>\n",
       "      <th>1</th>\n",
       "      <td>Terry</td>\n",
       "      <td>5</td>\n",
       "      <td>gmail</td>\n",
       "    </tr>\n",
       "    <tr>\n",
       "      <th>4</th>\n",
       "      <td>Gary</td>\n",
       "      <td>10</td>\n",
       "      <td>MSN</td>\n",
       "    </tr>\n",
       "  </tbody>\n",
       "</table>\n",
       "</div>"
      ],
      "text/plain": [
       "  Person  Age  Email\n",
       "1  Terry    5  gmail\n",
       "4   Gary   10    MSN"
      ]
     },
     "execution_count": 14,
     "metadata": {},
     "output_type": "execute_result"
    }
   ],
   "source": [
    "df.loc[((df['Email'] == 'gmail') | (df['Email'] == 'MSN')) & (df['Age'] <= 10), ['Person', 'Age', 'Email']]"
   ]
  },
  {
   "cell_type": "markdown",
   "metadata": {},
   "source": [
    "As partially noted in the stack overflow thread above, the reason to use the loc function is that we gain added functionality when the index is something meaningful. Specifically we can use \":\" to slice the data. Additionally as we will see in the \"Updates\" section updating specific values in a data frame works with the loc function.\n",
    "\n",
    "From this point on all selects will be done with the loc (or iloc) indexer.  We will see more of its power when we look at choosing an index."
   ]
  },
  {
   "cell_type": "code",
   "execution_count": null,
   "metadata": {},
   "outputs": [],
   "source": []
  }
 ],
 "metadata": {
  "kernelspec": {
   "display_name": "Python 3",
   "language": "python",
   "name": "python3"
  },
  "language_info": {
   "codemirror_mode": {
    "name": "ipython",
    "version": 3
   },
   "file_extension": ".py",
   "mimetype": "text/x-python",
   "name": "python",
   "nbconvert_exporter": "python",
   "pygments_lexer": "ipython3",
   "version": "3.6.8"
  }
 },
 "nbformat": 4,
 "nbformat_minor": 2
}
