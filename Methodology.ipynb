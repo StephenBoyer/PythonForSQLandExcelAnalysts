{
 "cells": [
  {
   "cell_type": "markdown",
   "metadata": {},
   "source": [
    "## Methodology\n",
    "\n",
    "When I was learning the basics of SQL I found it very useful to create very simply structure temp tables to practice and analyze results. This allowed for exploring examples and cases where I wasn't sure what the results would be. For example, if I were learning how different where clauses work I would create a small temp table with a variety of fields and values and then write queries against it to see results.\n",
    "\n",
    "So to start learning how to translates Basic SQL Select statements into Python we will first create a \"table\" to work with. Here is how I would go about creating a dumby set to work with in SQL:\n",
    "\n",
    "```sql\n",
    "    CREATE TABLE #ListOfNames\n",
    "    (\n",
    "\t\tID int,\n",
    "\t\tFullName varchar(20)\n",
    "\t)\n",
    "\tINSERT INTO #ListOfNames (ID, FullName)\n",
    "\tVALUES \n",
    "\t\t(1, 'Jerry'),\n",
    "\t\t(2, 'Terry'),\n",
    "\t\t(3, 'Mary'),\n",
    "\t\t(4, 'Larry')\n",
    "```\n",
    "\n",
    "Once I had created the table I could then write queries:\n",
    "```sql\n",
    "Select * from #ListOFNames where FullName like '%rry'\n",
    "```\n",
    "\n",
    "| ID | FullName      |\n",
    "|----|---------------|\n",
    "| 1  | Jerry         |\n",
    "| 2  | Terry         |\n",
    "| 3  | Larry         |\n",
    "\n",
    "\n",
    "For the purposes of learning python we will be putting SQL side by side with Python.  We will be using Pandas and the data frame in pandas is going to be our \"tables\". We will create a data frame and add to it in order to suit our needs and test out how to do what we do in SQL or Excel in python. Along the way we will use additional tools but for now we can start by importing pandas and creating an analogous data frame."
   ]
  },
  {
   "cell_type": "code",
   "execution_count": null,
   "metadata": {},
   "outputs": [],
   "source": []
  }
 ],
 "metadata": {
  "kernelspec": {
   "display_name": "Python 3",
   "language": "python",
   "name": "python3"
  },
  "language_info": {
   "codemirror_mode": {
    "name": "ipython",
    "version": 3
   },
   "file_extension": ".py",
   "mimetype": "text/x-python",
   "name": "python",
   "nbconvert_exporter": "python",
   "pygments_lexer": "ipython3",
   "version": "3.6.8"
  }
 },
 "nbformat": 4,
 "nbformat_minor": 2
}
